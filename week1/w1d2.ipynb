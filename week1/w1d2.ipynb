{
 "cells": [
  {
   "cell_type": "markdown",
   "metadata": {},
   "source": [
    "## Input and output\n",
    "\n",
    "Input: what you put into a program\n",
    "\n",
    "Output: what comes out of the program, the results\n",
    "\n",
    "### Output: print"
   ]
  },
  {
   "cell_type": "code",
   "execution_count": 1,
   "metadata": {
    "collapsed": false
   },
   "outputs": [
    {
     "name": "stdout",
     "output_type": "stream",
     "text": [
      "Help on built-in function print in module builtins:\n",
      "\n",
      "print(...)\n",
      "    print(value, ..., sep=' ', end='\\n', file=sys.stdout, flush=False)\n",
      "    \n",
      "    Prints the values to a stream, or to sys.stdout by default.\n",
      "    Optional keyword arguments:\n",
      "    file:  a file-like object (stream); defaults to the current sys.stdout.\n",
      "    sep:   string inserted between values, default a space.\n",
      "    end:   string appended after the last value, default a newline.\n",
      "    flush: whether to forcibly flush the stream.\n",
      "\n"
     ]
    }
   ],
   "source": [
    "help(print)"
   ]
  },
  {
   "cell_type": "code",
   "execution_count": 2,
   "metadata": {
    "collapsed": false
   },
   "outputs": [
    {
     "name": "stdout",
     "output_type": "stream",
     "text": [
      "hi class\n"
     ]
    }
   ],
   "source": [
    "print(\"hi class\")"
   ]
  },
  {
   "cell_type": "code",
   "execution_count": 3,
   "metadata": {
    "collapsed": false
   },
   "outputs": [
    {
     "name": "stdout",
     "output_type": "stream",
     "text": [
      "Bob Ryan\n"
     ]
    }
   ],
   "source": [
    "print(\"Bob\", \"Ryan\")"
   ]
  },
  {
   "cell_type": "code",
   "execution_count": 4,
   "metadata": {
    "collapsed": false
   },
   "outputs": [
    {
     "name": "stdout",
     "output_type": "stream",
     "text": [
      "Bob...Ryan\n"
     ]
    }
   ],
   "source": [
    "print(\"Bob\", \"Ryan\", sep='...')"
   ]
  },
  {
   "cell_type": "code",
   "execution_count": 5,
   "metadata": {
    "collapsed": false
   },
   "outputs": [
    {
     "name": "stdout",
     "output_type": "stream",
     "text": [
      "Bob...Ryan...Mike...Andrew\n"
     ]
    }
   ],
   "source": [
    "print(\"Bob\", \"Ryan\", \"Mike\", \"Andrew\", sep='...')"
   ]
  },
  {
   "cell_type": "code",
   "execution_count": 6,
   "metadata": {
    "collapsed": false
   },
   "outputs": [
    {
     "name": "stdout",
     "output_type": "stream",
     "text": [
      "The Iron Yard 336 Blackwell\n"
     ]
    }
   ],
   "source": [
    "print(\"The Iron Yard\", 336, \"Blackwell\")"
   ]
  },
  {
   "cell_type": "code",
   "execution_count": 7,
   "metadata": {
    "collapsed": false
   },
   "outputs": [
    {
     "ename": "TypeError",
     "evalue": "Can't convert 'float' object to str implicitly",
     "output_type": "error",
     "traceback": [
      "\u001b[0;31m---------------------------------------------------------------------------\u001b[0m",
      "\u001b[0;31mTypeError\u001b[0m                                 Traceback (most recent call last)",
      "\u001b[0;32m<ipython-input-7-db7923fe5e06>\u001b[0m in \u001b[0;36m<module>\u001b[0;34m()\u001b[0m\n\u001b[0;32m----> 1\u001b[0;31m \u001b[0mprint\u001b[0m\u001b[0;34m(\u001b[0m\u001b[0;34m\"The number is \"\u001b[0m \u001b[0;34m+\u001b[0m \u001b[0;36m2.76\u001b[0m\u001b[0;34m)\u001b[0m\u001b[0;34m\u001b[0m\u001b[0m\n\u001b[0m",
      "\u001b[0;31mTypeError\u001b[0m: Can't convert 'float' object to str implicitly"
     ]
    }
   ],
   "source": [
    "print(\"The number is \" + 2.76)"
   ]
  },
  {
   "cell_type": "code",
   "execution_count": 8,
   "metadata": {
    "collapsed": false
   },
   "outputs": [
    {
     "name": "stdout",
     "output_type": "stream",
     "text": [
      "The number is 2.76\n"
     ]
    }
   ],
   "source": [
    "print(\"The number is\", 2.76)"
   ]
  },
  {
   "cell_type": "code",
   "execution_count": 9,
   "metadata": {
    "collapsed": false
   },
   "outputs": [
    {
     "name": "stdout",
     "output_type": "stream",
     "text": [
      "The number is 2.76\n"
     ]
    }
   ],
   "source": [
    "print(\"The number is \" + \"2.76\")"
   ]
  },
  {
   "cell_type": "code",
   "execution_count": 11,
   "metadata": {
    "collapsed": false
   },
   "outputs": [
    {
     "name": "stdout",
     "output_type": "stream",
     "text": [
      "The number is 2.76\n"
     ]
    }
   ],
   "source": [
    "print(\"The number is \" + str(2.76))"
   ]
  },
  {
   "cell_type": "markdown",
   "metadata": {},
   "source": [
    "### Input\n",
    "\n",
    "input()\n",
    "Gives us something from the user"
   ]
  },
  {
   "cell_type": "code",
   "execution_count": 12,
   "metadata": {
    "collapsed": false
   },
   "outputs": [
    {
     "name": "stdout",
     "output_type": "stream",
     "text": [
      "Help on method raw_input in module ipykernel.kernelbase:\n",
      "\n",
      "raw_input(prompt='') method of ipykernel.ipkernel.IPythonKernel instance\n",
      "    Forward raw_input to frontends\n",
      "    \n",
      "    Raises\n",
      "    ------\n",
      "    StdinNotImplentedError if active frontend doesn't support stdin.\n",
      "\n"
     ]
    }
   ],
   "source": [
    "help(input)"
   ]
  },
  {
   "cell_type": "code",
   "execution_count": 13,
   "metadata": {
    "collapsed": false
   },
   "outputs": [
    {
     "name": "stdout",
     "output_type": "stream",
     "text": [
      "13\n"
     ]
    },
    {
     "data": {
      "text/plain": [
       "'13'"
      ]
     },
     "execution_count": 13,
     "metadata": {},
     "output_type": "execute_result"
    }
   ],
   "source": [
    "input()"
   ]
  },
  {
   "cell_type": "code",
   "execution_count": 14,
   "metadata": {
    "collapsed": false
   },
   "outputs": [
    {
     "name": "stdout",
     "output_type": "stream",
     "text": [
      "What is your name?James\n"
     ]
    }
   ],
   "source": [
    "name = input(\"What is your name?\")"
   ]
  },
  {
   "cell_type": "code",
   "execution_count": 15,
   "metadata": {
    "collapsed": false
   },
   "outputs": [
    {
     "data": {
      "text/plain": [
       "'James'"
      ]
     },
     "execution_count": 15,
     "metadata": {},
     "output_type": "execute_result"
    }
   ],
   "source": [
    "name"
   ]
  },
  {
   "cell_type": "code",
   "execution_count": 16,
   "metadata": {
    "collapsed": false
   },
   "outputs": [
    {
     "name": "stdout",
     "output_type": "stream",
     "text": [
      "Press enter to continue\n"
     ]
    },
    {
     "data": {
      "text/plain": [
       "''"
      ]
     },
     "execution_count": 16,
     "metadata": {},
     "output_type": "execute_result"
    }
   ],
   "source": [
    "input(\"Press enter to continue\")"
   ]
  },
  {
   "cell_type": "markdown",
   "metadata": {},
   "source": [
    "## Variables and conversion\n",
    "\n"
   ]
  },
  {
   "cell_type": "code",
   "execution_count": 17,
   "metadata": {
    "collapsed": false
   },
   "outputs": [
    {
     "name": "stdout",
     "output_type": "stream",
     "text": [
      "Give me a number42\n"
     ]
    }
   ],
   "source": [
    "the_number = int(input(\"Give me a number\"))"
   ]
  },
  {
   "cell_type": "code",
   "execution_count": 18,
   "metadata": {
    "collapsed": false
   },
   "outputs": [
    {
     "data": {
      "text/plain": [
       "42"
      ]
     },
     "execution_count": 18,
     "metadata": {},
     "output_type": "execute_result"
    }
   ],
   "source": [
    "the_number"
   ]
  },
  {
   "cell_type": "code",
   "execution_count": 19,
   "metadata": {
    "collapsed": false
   },
   "outputs": [
    {
     "data": {
      "text/plain": [
       "int"
      ]
     },
     "execution_count": 19,
     "metadata": {},
     "output_type": "execute_result"
    }
   ],
   "source": [
    "type(the_number)"
   ]
  },
  {
   "cell_type": "code",
   "execution_count": 24,
   "metadata": {
    "collapsed": false
   },
   "outputs": [
    {
     "name": "stdout",
     "output_type": "stream",
     "text": [
      "Give me one number42\n",
      "Give me another13\n",
      "The sum is  4213\n"
     ]
    }
   ],
   "source": [
    "# DONT DO THIS\n",
    "\n",
    "a = input(\"Give me one number\")\n",
    "b = input(\"Give me another\")\n",
    "print(\"The sum is \", a + b)"
   ]
  },
  {
   "cell_type": "code",
   "execution_count": 25,
   "metadata": {
    "collapsed": false
   },
   "outputs": [
    {
     "data": {
      "text/plain": [
       "str"
      ]
     },
     "execution_count": 25,
     "metadata": {},
     "output_type": "execute_result"
    }
   ],
   "source": [
    "type(a)"
   ]
  },
  {
   "cell_type": "code",
   "execution_count": 21,
   "metadata": {
    "collapsed": false
   },
   "outputs": [
    {
     "name": "stdout",
     "output_type": "stream",
     "text": [
      "Give me one number42\n",
      "Give me another13\n",
      "The sum is  55\n"
     ]
    }
   ],
   "source": [
    "a = int(input(\"Give me one number\"))\n",
    "b = int(input(\"Give me another\"))\n",
    "print(\"The sum is \", a + b)"
   ]
  },
  {
   "cell_type": "code",
   "execution_count": 22,
   "metadata": {
    "collapsed": false
   },
   "outputs": [
    {
     "data": {
      "text/plain": [
       "int"
      ]
     },
     "execution_count": 22,
     "metadata": {},
     "output_type": "execute_result"
    }
   ],
   "source": [
    "type(a)"
   ]
  },
  {
   "cell_type": "code",
   "execution_count": 23,
   "metadata": {
    "collapsed": false
   },
   "outputs": [
    {
     "data": {
      "text/plain": [
       "int"
      ]
     },
     "execution_count": 23,
     "metadata": {},
     "output_type": "execute_result"
    }
   ],
   "source": [
    "type(b)"
   ]
  },
  {
   "cell_type": "code",
   "execution_count": 26,
   "metadata": {
    "collapsed": false
   },
   "outputs": [
    {
     "name": "stdout",
     "output_type": "stream",
     "text": [
      "give me a number42\n"
     ]
    }
   ],
   "source": [
    "the_number = input(\"give me a number\")"
   ]
  },
  {
   "cell_type": "code",
   "execution_count": 27,
   "metadata": {
    "collapsed": false
   },
   "outputs": [
    {
     "data": {
      "text/plain": [
       "True"
      ]
     },
     "execution_count": 27,
     "metadata": {},
     "output_type": "execute_result"
    }
   ],
   "source": [
    "the_number.isdigit()"
   ]
  },
  {
   "cell_type": "code",
   "execution_count": 29,
   "metadata": {
    "collapsed": false
   },
   "outputs": [
    {
     "name": "stdout",
     "output_type": "stream",
     "text": [
      "give me a numberapple\n",
      "you didn't type a number!\n"
     ]
    }
   ],
   "source": [
    "the_number = input(\"give me a number\")\n",
    "\n",
    "if the_number.isdigit():\n",
    "    the_number = int(the_number)\n",
    "else:\n",
    "    print(\"you didn't type a number!\")"
   ]
  },
  {
   "cell_type": "code",
   "execution_count": 30,
   "metadata": {
    "collapsed": false
   },
   "outputs": [
    {
     "ename": "ValueError",
     "evalue": "invalid literal for int() with base 10: 'apple'",
     "output_type": "error",
     "traceback": [
      "\u001b[0;31m---------------------------------------------------------------------------\u001b[0m",
      "\u001b[0;31mValueError\u001b[0m                                Traceback (most recent call last)",
      "\u001b[0;32m<ipython-input-30-1bcdcf617715>\u001b[0m in \u001b[0;36m<module>\u001b[0;34m()\u001b[0m\n\u001b[0;32m----> 1\u001b[0;31m \u001b[0mint\u001b[0m\u001b[0;34m(\u001b[0m\u001b[0;34m\"apple\"\u001b[0m\u001b[0;34m)\u001b[0m\u001b[0;34m\u001b[0m\u001b[0m\n\u001b[0m",
      "\u001b[0;31mValueError\u001b[0m: invalid literal for int() with base 10: 'apple'"
     ]
    }
   ],
   "source": [
    "int(\"apple\")"
   ]
  },
  {
   "cell_type": "code",
   "execution_count": 31,
   "metadata": {
    "collapsed": false
   },
   "outputs": [
    {
     "name": "stdout",
     "output_type": "stream",
     "text": [
      "Help on class type in module builtins:\n",
      "\n",
      "class type(object)\n",
      " |  type(object_or_name, bases, dict)\n",
      " |  type(object) -> the object's type\n",
      " |  type(name, bases, dict) -> a new type\n",
      " |  \n",
      " |  Methods defined here:\n",
      " |  \n",
      " |  __call__(self, /, *args, **kwargs)\n",
      " |      Call self as a function.\n",
      " |  \n",
      " |  __delattr__(self, name, /)\n",
      " |      Implement delattr(self, name).\n",
      " |  \n",
      " |  __dir__(...)\n",
      " |      __dir__() -> list\n",
      " |      specialized __dir__ implementation for types\n",
      " |  \n",
      " |  __getattribute__(self, name, /)\n",
      " |      Return getattr(self, name).\n",
      " |  \n",
      " |  __init__(self, /, *args, **kwargs)\n",
      " |      Initialize self.  See help(type(self)) for accurate signature.\n",
      " |  \n",
      " |  __instancecheck__(...)\n",
      " |      __instancecheck__() -> bool\n",
      " |      check if an object is an instance\n",
      " |  \n",
      " |  __new__(*args, **kwargs)\n",
      " |      Create and return a new object.  See help(type) for accurate signature.\n",
      " |  \n",
      " |  __prepare__(...)\n",
      " |      __prepare__() -> dict\n",
      " |      used to create the namespace for the class statement\n",
      " |  \n",
      " |  __repr__(self, /)\n",
      " |      Return repr(self).\n",
      " |  \n",
      " |  __setattr__(self, name, value, /)\n",
      " |      Implement setattr(self, name, value).\n",
      " |  \n",
      " |  __sizeof__(...)\n",
      " |      __sizeof__() -> int\n",
      " |      return memory consumption of the type object\n",
      " |  \n",
      " |  __subclasscheck__(...)\n",
      " |      __subclasscheck__() -> bool\n",
      " |      check if a class is a subclass\n",
      " |  \n",
      " |  __subclasses__(...)\n",
      " |      __subclasses__() -> list of immediate subclasses\n",
      " |  \n",
      " |  mro(...)\n",
      " |      mro() -> list\n",
      " |      return a type's method resolution order\n",
      " |  \n",
      " |  ----------------------------------------------------------------------\n",
      " |  Data descriptors defined here:\n",
      " |  \n",
      " |  __abstractmethods__\n",
      " |  \n",
      " |  __dict__\n",
      " |  \n",
      " |  __text_signature__\n",
      " |  \n",
      " |  ----------------------------------------------------------------------\n",
      " |  Data and other attributes defined here:\n",
      " |  \n",
      " |  __base__ = <class 'object'>\n",
      " |      The most base type\n",
      " |  \n",
      " |  __bases__ = (<class 'object'>,)\n",
      " |  \n",
      " |  __basicsize__ = 824\n",
      " |  \n",
      " |  __dictoffset__ = 264\n",
      " |  \n",
      " |  __flags__ = 2148291584\n",
      " |  \n",
      " |  __itemsize__ = 40\n",
      " |  \n",
      " |  __mro__ = (<class 'type'>, <class 'object'>)\n",
      " |  \n",
      " |  __weakrefoffset__ = 368\n",
      "\n"
     ]
    }
   ],
   "source": [
    "help(type)"
   ]
  },
  {
   "cell_type": "code",
   "execution_count": 32,
   "metadata": {
    "collapsed": false
   },
   "outputs": [
    {
     "name": "stdout",
     "output_type": "stream",
     "text": [
      "Give me a name: George\n"
     ]
    },
    {
     "data": {
      "text/plain": [
       "'George'"
      ]
     },
     "execution_count": 32,
     "metadata": {},
     "output_type": "execute_result"
    }
   ],
   "source": [
    "input(\"Give me a name: \")"
   ]
  },
  {
   "cell_type": "markdown",
   "metadata": {},
   "source": [
    "Cover price of a book is $24.95, bookstores get a 40% discount\n",
    "\n",
    "Shipping costs $3 for the first copy of a book, 75 cents for each additional copy\n",
    "\n",
    "What is the wholesale cost for 60 copies?"
   ]
  },
  {
   "cell_type": "code",
   "execution_count": 38,
   "metadata": {
    "collapsed": false
   },
   "outputs": [
    {
     "name": "stdout",
     "output_type": "stream",
     "text": [
      "945.4499999999999\n",
      "945.45\n"
     ]
    }
   ],
   "source": [
    "cover_price = 24.95\n",
    "discount_price = 0.6\n",
    "shipping1 = 3.0\n",
    "shippingx = 0.75\n",
    "quantity = 60\n",
    "wholesale = (cover_price * discount_price * quantity) + shipping1 + (quantity - 1)*shippingx\n",
    "print(wholesale)\n",
    "print(round(wholesale, 2))"
   ]
  },
  {
   "cell_type": "code",
   "execution_count": 39,
   "metadata": {
    "collapsed": false
   },
   "outputs": [
    {
     "name": "stdout",
     "output_type": "stream",
     "text": [
      "Help on built-in function round in module builtins:\n",
      "\n",
      "round(...)\n",
      "    round(number[, ndigits]) -> number\n",
      "    \n",
      "    Round a number to a given precision in decimal digits (default 0 digits).\n",
      "    This returns an int when called with one argument, otherwise the\n",
      "    same type as the number. ndigits may be negative.\n",
      "\n"
     ]
    }
   ],
   "source": [
    "help(round)"
   ]
  },
  {
   "cell_type": "code",
   "execution_count": 40,
   "metadata": {
    "collapsed": false
   },
   "outputs": [
    {
     "data": {
      "text/plain": [
       "134134000"
      ]
     },
     "execution_count": 40,
     "metadata": {},
     "output_type": "execute_result"
    }
   ],
   "source": [
    "round(134134134, -3)"
   ]
  },
  {
   "cell_type": "code",
   "execution_count": 41,
   "metadata": {
    "collapsed": false
   },
   "outputs": [
    {
     "data": {
      "text/plain": [
       "1.3413413524524135e+24"
      ]
     },
     "execution_count": 41,
     "metadata": {},
     "output_type": "execute_result"
    }
   ],
   "source": [
    "1341341352452413413525134.13513414134"
   ]
  },
  {
   "cell_type": "code",
   "execution_count": 42,
   "metadata": {
    "collapsed": false
   },
   "outputs": [
    {
     "name": "stdout",
     "output_type": "stream",
     "text": [
      "Help on method_descriptor:\n",
      "\n",
      "format(...)\n",
      "    S.format(*args, **kwargs) -> str\n",
      "    \n",
      "    Return a formatted version of S, using substitutions from args and kwargs.\n",
      "    The substitutions are identified by braces ('{' and '}').\n",
      "\n"
     ]
    }
   ],
   "source": [
    "help(str.format)"
   ]
  },
  {
   "cell_type": "code",
   "execution_count": 43,
   "metadata": {
    "collapsed": false
   },
   "outputs": [
    {
     "data": {
      "text/plain": [
       "945.4499999999999"
      ]
     },
     "execution_count": 43,
     "metadata": {},
     "output_type": "execute_result"
    }
   ],
   "source": [
    "wholesale"
   ]
  },
  {
   "cell_type": "code",
   "execution_count": 54,
   "metadata": {
    "collapsed": false
   },
   "outputs": [
    {
     "name": "stdout",
     "output_type": "stream",
     "text": [
      "945.45\n"
     ]
    }
   ],
   "source": [
    "print(\"{:.2f}\".format(wholesale))"
   ]
  },
  {
   "cell_type": "code",
   "execution_count": 68,
   "metadata": {
    "collapsed": true
   },
   "outputs": [],
   "source": [
    "def get_number():\n",
    "    return int(input(\"Give me a number\"))"
   ]
  },
  {
   "cell_type": "code",
   "execution_count": 77,
   "metadata": {
    "collapsed": false
   },
   "outputs": [],
   "source": [
    "def wholesale_price(quantity):\n",
    "    if quantity == None:\n",
    "        quantity = get_number()\n",
    "    cover_price = 24.95\n",
    "    discount_price = 0.6\n",
    "    shipping1 = 3.0\n",
    "    shippingx = 0.75\n",
    "    wholesale = ((cover_price * discount_price * quantity) + shipping1 +\n",
    "                 (quantity - 1)*shippingx)\n",
    "    print(round(wholesale, 2))"
   ]
  },
  {
   "cell_type": "code",
   "execution_count": 79,
   "metadata": {
    "collapsed": false
   },
   "outputs": [
    {
     "name": "stdout",
     "output_type": "stream",
     "text": [
      "631.05\n"
     ]
    }
   ],
   "source": [
    "wholesale_price(40)"
   ]
  },
  {
   "cell_type": "markdown",
   "metadata": {},
   "source": [
    "### Conditionals\n",
    "\n",
    "Conditoinals are our way of representing **logic**\n",
    "\n",
    "Recipe:\n",
    "1. Stir the mixture until it thickens\n",
    "1. Bake at 425 degrees for 11-13 minutes, or at 400 degrees for 15-17 minutes for a crisper crust\n",
    "1. Cook on low for 8 hours or on high for 3.5 hours\n",
    "1. Add the peppers once the onions are translucent\n",
    "1. Whip the eggs and sugar until they have stiff peaks"
   ]
  },
  {
   "cell_type": "code",
   "execution_count": 1,
   "metadata": {
    "collapsed": false
   },
   "outputs": [
    {
     "name": "stdout",
     "output_type": "stream",
     "text": [
      "What is your age? 25\n",
      "You are allowed to vote\n"
     ]
    }
   ],
   "source": [
    "age = int(input('What is your age? '))\n",
    "if age >= 18:\n",
    "    print('You are allowed to vote')\n",
    "else:\n",
    "    print(\"You can't vote yet\")"
   ]
  },
  {
   "cell_type": "markdown",
   "metadata": {},
   "source": [
    "ifs can have more than two options using `elif`"
   ]
  },
  {
   "cell_type": "code",
   "execution_count": 2,
   "metadata": {
    "collapsed": false
   },
   "outputs": [
    {
     "name": "stdout",
     "output_type": "stream",
     "text": [
      "What is your age? 25\n",
      "You are allowed to vote and you can buy alcohol\n",
      "You have great responsibility, be careful with it\n"
     ]
    }
   ],
   "source": [
    "age = int(input('What is your age? '))\n",
    "if age >= 21:\n",
    "    print('You are allowed to vote and you can buy alcohol')\n",
    "    print(\"You have great responsibility, be careful with it\")\n",
    "elif age >= 18:\n",
    "    print('You can vote, but do not buy alcohol')\n",
    "else:\n",
    "    print(\"You can't vote yet\")"
   ]
  },
  {
   "cell_type": "code",
   "execution_count": null,
   "metadata": {
    "collapsed": false
   },
   "outputs": [
    {
     "name": "stdout",
     "output_type": "stream",
     "text": [
      "What is your age? 14\n",
      "You can't vote yet\n"
     ]
    }
   ],
   "source": [
    "age = int(input('What is your age? '))\n",
    "if age >= 18:\n",
    "    print('You can vote, but do not buy alcohol')\n",
    "elif age >= 21:\n",
    "    print('You are allowed to vote and you can buy alcohol')\n",
    "else:\n",
    "    print(\"You can't vote yet\")"
   ]
  },
  {
   "cell_type": "markdown",
   "metadata": {},
   "source": [
    "Order of conditions matters!"
   ]
  },
  {
   "cell_type": "code",
   "execution_count": 91,
   "metadata": {
    "collapsed": false
   },
   "outputs": [
    {
     "name": "stdout",
     "output_type": "stream",
     "text": [
      "What is your age? 15\n",
      "have a greta day\n"
     ]
    }
   ],
   "source": [
    "age = int(input('What is your age? '))\n",
    "if age >= 18:\n",
    "    print('You can vote, congrats!')\n",
    "\n",
    "print(\"have a greta day\")"
   ]
  },
  {
   "cell_type": "markdown",
   "metadata": {},
   "source": [
    "## while statement (loops)\n",
    "\n",
    "loops let us repeat some section of code, usually until or while some condition is met\n"
   ]
  },
  {
   "cell_type": "code",
   "execution_count": 3,
   "metadata": {
    "collapsed": false
   },
   "outputs": [
    {
     "name": "stdout",
     "output_type": "stream",
     "text": [
      "1\n",
      "2\n",
      "3\n",
      "4\n",
      "5\n",
      "6\n",
      "7\n",
      "8\n",
      "9\n",
      "10\n"
     ]
    }
   ],
   "source": [
    "# print out all the numbers from 1 to 10\n",
    "\n",
    "i = 1\n",
    "while i <= 10:\n",
    "    print(i)\n",
    "    i += 1"
   ]
  },
  {
   "cell_type": "code",
   "execution_count": 4,
   "metadata": {
    "collapsed": false
   },
   "outputs": [
    {
     "data": {
      "text/plain": [
       "11"
      ]
     },
     "execution_count": 4,
     "metadata": {},
     "output_type": "execute_result"
    }
   ],
   "source": [
    "i"
   ]
  },
  {
   "cell_type": "markdown",
   "metadata": {},
   "source": [
    "## Loop with sentinal value"
   ]
  },
  {
   "cell_type": "code",
   "execution_count": 6,
   "metadata": {
    "collapsed": false
   },
   "outputs": [
    {
     "name": "stdout",
     "output_type": "stream",
     "text": [
      "Enter your name, or type 'Q' to quit: James\n",
      "Hi James\n",
      "Enter your name, or type 'Q' to quit: Fred\n",
      "Hi Fred\n",
      "Enter your name, or type 'Q' to quit: Pablo\n",
      "Hi Pablo\n",
      "Enter your name, or type 'Q' to quit: Q\n"
     ]
    }
   ],
   "source": [
    "quit = False\n",
    "\n",
    "while not quit:\n",
    "    user_input = input(\"Enter your name, or type 'Q' to quit: \")\n",
    "    if user_input == 'Q':\n",
    "        quit = True\n",
    "    else:\n",
    "        print(\"Hi\", user_input)\n"
   ]
  },
  {
   "cell_type": "markdown",
   "metadata": {},
   "source": [
    "## Complex logic\n",
    "\n",
    "We can combine *boolean expressionx* (expressions that give us `True` or `False`) using `and`, `or`, and `not`\n"
   ]
  },
  {
   "cell_type": "code",
   "execution_count": 11,
   "metadata": {
    "collapsed": false
   },
   "outputs": [
    {
     "name": "stdout",
     "output_type": "stream",
     "text": [
      "What is your age? 60\n",
      "What is your name? Mason\n",
      "You are wise.\n"
     ]
    }
   ],
   "source": [
    "age = int(input('What is your age? '))\n",
    "name = input('What is your name? ')\n",
    "if name == 'Mason' or age > 50:\n",
    "    print('You are wise.')\n"
   ]
  },
  {
   "cell_type": "code",
   "execution_count": 18,
   "metadata": {
    "collapsed": false
   },
   "outputs": [
    {
     "ename": "SyntaxError",
     "evalue": "invalid syntax (<ipython-input-18-07beb224588d>, line 3)",
     "output_type": "error",
     "traceback": [
      "\u001b[0;36m  File \u001b[0;32m\"<ipython-input-18-07beb224588d>\"\u001b[0;36m, line \u001b[0;32m3\u001b[0m\n\u001b[0;31m    if name = 'Mason' and age == 35:\u001b[0m\n\u001b[0m            ^\u001b[0m\n\u001b[0;31mSyntaxError\u001b[0m\u001b[0;31m:\u001b[0m invalid syntax\n"
     ]
    }
   ],
   "source": [
    "age = int(input('What is your age? '))\n",
    "name = input('What is your name? ')\n",
    "if name == 'Mason' and age == 35:\n",
    "    print('You are in fact Mason')\n",
    "elif name == 'Mason' and age != 35:\n",
    "    print('You are an imposter!!!!!')\n",
    "elif age > 60:\n",
    "    print('You are wise')\n",
    "else:\n",
    "    print('Nice to meet you,', name)\n"
   ]
  },
  {
   "cell_type": "code",
   "execution_count": 20,
   "metadata": {
    "collapsed": false
   },
   "outputs": [],
   "source": [
    "while False:\n",
    "    print('it is a great day.')"
   ]
  },
  {
   "cell_type": "markdown",
   "metadata": {},
   "source": [
    "# Functions\n",
    "\n",
    "Ways to take snippet or segment of code and turn it into a reusable template\n"
   ]
  },
  {
   "cell_type": "code",
   "execution_count": 21,
   "metadata": {
    "collapsed": false
   },
   "outputs": [
    {
     "name": "stdout",
     "output_type": "stream",
     "text": [
      "12.56636\n"
     ]
    }
   ],
   "source": [
    "radius = 2\n",
    "pi = 3.14159\n",
    "circumference = 2 * pi * radius\n",
    "print(circumference)"
   ]
  },
  {
   "cell_type": "code",
   "execution_count": 26,
   "metadata": {
    "collapsed": false
   },
   "outputs": [
    {
     "name": "stdout",
     "output_type": "stream",
     "text": [
      "18.849539999999998\n",
      "25.13272\n"
     ]
    }
   ],
   "source": [
    "def circumference(radius):\n",
    "    \"\"\"Calculates the \"circumference\" of a circle with the given radius\n",
    "    \n",
    "    Arguments: radius the radius of the circle\n",
    "    \n",
    "    This uses an approximate value of pi\"\"\"\n",
    "    pi = 3.14159\n",
    "    return 2 * pi * radius\n",
    "\n",
    "print(circumference(3))\n",
    "print(circumference(4))"
   ]
  },
  {
   "cell_type": "code",
   "execution_count": 29,
   "metadata": {
    "collapsed": false
   },
   "outputs": [
    {
     "name": "stdout",
     "output_type": "stream",
     "text": [
      "62.8318\n"
     ]
    }
   ],
   "source": [
    "tube_size = 10\n",
    "tube_circumference = circumference(tube_size)\n",
    "print(tube_circumference)"
   ]
  },
  {
   "cell_type": "code",
   "execution_count": 24,
   "metadata": {
    "collapsed": true
   },
   "outputs": [],
   "source": [
    "from turtle import *"
   ]
  },
  {
   "cell_type": "code",
   "execution_count": 25,
   "metadata": {
    "collapsed": false
   },
   "outputs": [
    {
     "name": "stdout",
     "output_type": "stream",
     "text": [
      "Help on function color in module turtle:\n",
      "\n",
      "color(*args)\n",
      "    Return or set the pencolor and fillcolor.\n",
      "    \n",
      "    Arguments:\n",
      "    Several input formats are allowed.\n",
      "    They use 0, 1, 2, or 3 arguments as follows:\n",
      "    \n",
      "    color()\n",
      "        Return the current pencolor and the current fillcolor\n",
      "        as a pair of color specification strings as are returned\n",
      "        by pencolor and fillcolor.\n",
      "    color(colorstring), color((r,g,b)), color(r,g,b)\n",
      "        inputs as in pencolor, set both, fillcolor and pencolor,\n",
      "        to the given value.\n",
      "    color(colorstring1, colorstring2),\n",
      "    color((r1,g1,b1), (r2,g2,b2))\n",
      "        equivalent to pencolor(colorstring1) and fillcolor(colorstring2)\n",
      "        and analogously, if the other input format is used.\n",
      "    \n",
      "    If turtleshape is a polygon, outline and interior of that polygon\n",
      "    is drawn with the newly set colors.\n",
      "    For mor info see: pencolor, fillcolor\n",
      "    \n",
      "    Example:\n",
      "    >>> color('red', 'green')\n",
      "    >>> color()\n",
      "    ('red', 'green')\n",
      "    >>> colormode(255)\n",
      "    >>> color((40, 80, 120), (160, 200, 240))\n",
      "    >>> color()\n",
      "    ('#285078', '#a0c8f0')\n",
      "\n"
     ]
    }
   ],
   "source": [
    "help(color)"
   ]
  },
  {
   "cell_type": "markdown",
   "metadata": {},
   "source": [
    "## Functions and parameters\n",
    "\n",
    "* Functions must have a **name**\n",
    "* Must have at least one line of code\n",
    "* Can have a **docstring**\n",
    "* Can have a **return value**\n",
    "* Can have **parameters**\n"
   ]
  },
  {
   "cell_type": "code",
   "execution_count": 30,
   "metadata": {
    "collapsed": true
   },
   "outputs": [],
   "source": [
    "def magic_stuff():\n",
    "    pass # useful as one line for function"
   ]
  },
  {
   "cell_type": "markdown",
   "metadata": {},
   "source": [
    "### Parameters\n",
    "\n",
    "Parameters are the things that we pass into functions\n",
    "\n",
    "They go in parentheses, and we define the expected parameters when we define the function\n",
    "\n",
    "You can have more than one parameter, or zero parameters\n",
    "\n",
    "They're like placeholders for values until you actually use the function"
   ]
  },
  {
   "cell_type": "code",
   "execution_count": 1,
   "metadata": {
    "collapsed": false
   },
   "outputs": [
    {
     "name": "stdout",
     "output_type": "stream",
     "text": [
      "12\n"
     ]
    },
    {
     "ename": "NameError",
     "evalue": "name 'width' is not defined",
     "output_type": "error",
     "traceback": [
      "\u001b[0;31m---------------------------------------------------------------------------\u001b[0m",
      "\u001b[0;31mNameError\u001b[0m                                 Traceback (most recent call last)",
      "\u001b[0;32m<ipython-input-1-38049de8a584>\u001b[0m in \u001b[0;36m<module>\u001b[0;34m()\u001b[0m\n\u001b[1;32m      4\u001b[0m \u001b[0;34m\u001b[0m\u001b[0m\n\u001b[1;32m      5\u001b[0m \u001b[0mprint\u001b[0m\u001b[0;34m(\u001b[0m\u001b[0marea\u001b[0m\u001b[0;34m(\u001b[0m\u001b[0;36m4\u001b[0m\u001b[0;34m,\u001b[0m \u001b[0;36m3\u001b[0m\u001b[0;34m)\u001b[0m\u001b[0;34m)\u001b[0m\u001b[0;34m\u001b[0m\u001b[0m\n\u001b[0;32m----> 6\u001b[0;31m \u001b[0mprint\u001b[0m\u001b[0;34m(\u001b[0m\u001b[0mwidth\u001b[0m\u001b[0;34m)\u001b[0m\u001b[0;34m\u001b[0m\u001b[0m\n\u001b[0m",
      "\u001b[0;31mNameError\u001b[0m: name 'width' is not defined"
     ]
    }
   ],
   "source": [
    "def area(width, height):\n",
    "    \"\"\"Calculates the area of a rectangle with the given width and height\"\"\"\n",
    "    return width * height\n",
    "\n",
    "print(area(4, 3))\n",
    "print(width)"
   ]
  },
  {
   "cell_type": "markdown",
   "metadata": {},
   "source": [
    "You can specify function parameters (aka **arguments**) by position or by name"
   ]
  },
  {
   "cell_type": "code",
   "execution_count": 3,
   "metadata": {
    "collapsed": false
   },
   "outputs": [
    {
     "name": "stdout",
     "output_type": "stream",
     "text": [
      "12\n",
      "12\n"
     ]
    }
   ],
   "source": [
    "print(area(width=4, height=3))\n",
    "print(area(height=3, width=4))"
   ]
  },
  {
   "cell_type": "code",
   "execution_count": 4,
   "metadata": {
    "collapsed": false
   },
   "outputs": [
    {
     "name": "stdout",
     "output_type": "stream",
     "text": [
      "hi...bye\n"
     ]
    }
   ],
   "source": [
    "print(\"hi\", \"bye\", sep='...')"
   ]
  },
  {
   "cell_type": "markdown",
   "metadata": {},
   "source": [
    "Functions can have *default arguments* - these take on the value that we define the function with **if they aren't passed in as parameters**."
   ]
  },
  {
   "cell_type": "code",
   "execution_count": 8,
   "metadata": {
    "collapsed": false
   },
   "outputs": [
    {
     "ename": "SyntaxError",
     "evalue": "non-keyword arg after keyword arg (<ipython-input-8-d98615aaed2e>, line 14)",
     "output_type": "error",
     "traceback": [
      "\u001b[0;36m  File \u001b[0;32m\"<ipython-input-8-d98615aaed2e>\"\u001b[0;36m, line \u001b[0;32m14\u001b[0m\n\u001b[0;31m    print(inc(number=5, 10)) # ?\u001b[0m\n\u001b[0m                       ^\u001b[0m\n\u001b[0;31mSyntaxError\u001b[0m\u001b[0;31m:\u001b[0m non-keyword arg after keyword arg\n"
     ]
    }
   ],
   "source": [
    "def inc(number, amount=1):\n",
    "    \"\"\"\n",
    "    Increment a number.\n",
    "    \n",
    "    Arguments:\n",
    "    number -- the number to increment\n",
    "    amount -- the amount to increment it by (default 1)\n",
    "    \"\"\"\n",
    "    return number + amount\n",
    "\n",
    "print(inc(10)) # 11\n",
    "print(inc(10, amount=5)) # 15\n",
    "print(inc(10, 5)) # 15\n",
    "# print(inc(number=5, 10)) # ERROR"
   ]
  },
  {
   "cell_type": "markdown",
   "metadata": {},
   "source": [
    "## Recursion\n",
    "\n",
    "Functions can call **themselves**. This is called **recursion,** and it's not always necessarily the best or most efficient solution to problems, but it can be used to solve some interesting problems."
   ]
  },
  {
   "cell_type": "code",
   "execution_count": 9,
   "metadata": {
    "collapsed": true
   },
   "outputs": [],
   "source": [
    "def countdown(x):\n",
    "    if x < 0:\n",
    "        print(\"Blastoff!\")\n",
    "        return\n",
    "    print(x)\n",
    "    countdown(x - 1)"
   ]
  },
  {
   "cell_type": "code",
   "execution_count": 17,
   "metadata": {
    "collapsed": false
   },
   "outputs": [
    {
     "name": "stdout",
     "output_type": "stream",
     "text": [
      "12\n",
      "11\n",
      "10\n",
      "9\n",
      "8\n",
      "7\n",
      "6\n",
      "5\n",
      "4\n",
      "3\n",
      "2\n",
      "1\n",
      "0\n",
      "Blastoff!\n"
     ]
    }
   ],
   "source": [
    "countdown(12)"
   ]
  },
  {
   "cell_type": "code",
   "execution_count": 14,
   "metadata": {
    "collapsed": true
   },
   "outputs": [],
   "source": [
    "def countdown2(x):\n",
    "    while x >= 0:\n",
    "        print(x)\n",
    "        x -= 1\n",
    "    print(\"Blastoff!\")"
   ]
  },
  {
   "cell_type": "code",
   "execution_count": 15,
   "metadata": {
    "collapsed": false
   },
   "outputs": [
    {
     "name": "stdout",
     "output_type": "stream",
     "text": [
      "3\n",
      "2\n",
      "1\n",
      "0\n",
      "Blastoff!\n"
     ]
    }
   ],
   "source": [
    "countdown2(3)"
   ]
  },
  {
   "cell_type": "code",
   "execution_count": 18,
   "metadata": {
    "collapsed": true
   },
   "outputs": [],
   "source": [
    "fib_s = 1, 1, 2, 3, 5, 8, 13"
   ]
  },
  {
   "cell_type": "code",
   "execution_count": 19,
   "metadata": {
    "collapsed": true
   },
   "outputs": [],
   "source": [
    "def fib(step):\n",
    "    if step <= 0:\n",
    "        return 0\n",
    "    elif step == 1:\n",
    "        return 1\n",
    "    return fib(step - 1) + fib(step - 2)"
   ]
  },
  {
   "cell_type": "code",
   "execution_count": null,
   "metadata": {
    "collapsed": false
   },
   "outputs": [
    {
     "name": "stdout",
     "output_type": "stream",
     "text": [
      "0\n",
      "1\n",
      "1\n",
      "2\n",
      "3\n",
      "5\n",
      "8\n",
      "13\n",
      "21\n",
      "34\n",
      "55\n",
      "89\n",
      "144\n",
      "233\n",
      "377\n",
      "610\n",
      "987\n",
      "1597\n",
      "2584\n",
      "4181\n",
      "6765\n",
      "10946\n",
      "17711\n",
      "28657\n",
      "46368\n",
      "75025\n",
      "121393\n",
      "196418\n",
      "317811\n",
      "514229\n",
      "832040\n",
      "1346269\n",
      "2178309\n",
      "3524578\n",
      "5702887\n",
      "9227465\n",
      "14930352\n",
      "24157817\n",
      "39088169\n",
      "63245986\n",
      "102334155\n",
      "165580141\n",
      "267914296\n",
      "433494437\n",
      "701408733\n",
      "1134903170"
     ]
    }
   ],
   "source": [
    "for i in range(50):\n",
    "    print(fib(i))"
   ]
  },
  {
   "cell_type": "markdown",
   "metadata": {},
   "source": [
    "To draw a Koch curve of length x:\n",
    "\n",
    "1. Draw a Koch curve of length x/3\n",
    "1. Turn left 60 degrees\n",
    "1. Draw a Koch curve of length x/3\n",
    "1. Turn right 120 degrees\n",
    "1. Draw a Koch curve of length x/3\n",
    "1. Turn left 60 degrees\n",
    "1. Draw a Koch curve of length x/3\n"
   ]
  },
  {
   "cell_type": "code",
   "execution_count": null,
   "metadata": {
    "collapsed": true
   },
   "outputs": [],
   "source": [
    "from turtle import *\n",
    "\n",
    "speed(0)\n",
    "\n",
    "def koch(x):\n",
    "  if x < 2:\n",
    "    fd(x)\n",
    "  else:\n",
    "    koch(x/3)\n",
    "    lt(60)\n",
    "    koch(x/3)\n",
    "    rt(120)\n",
    "    koch(x/3)\n",
    "    lt(60)\n",
    "    koch(x/3)\n",
    "\n",
    "\n",
    "goto(-180, 0)\n",
    "koch(360)"
   ]
  },
  {
   "cell_type": "markdown",
   "metadata": {},
   "source": [
    "## Git stuff\n",
    "\n",
    "Create a repository in GitHub\n",
    "\n",
    "From the terminal (replace all uppercase things with relevant bits):\n",
    "\n",
    "```\n",
    "git clone SSH CLONE URL\n",
    "cd FOLDER NAME\n",
    "atom .\n",
    "# save your file in Atom\n",
    "git add FILENAME\n",
    "git commit -m \"SENTENCE DESCRIBING WHAT YOU DID\"\n",
    "git push\n",
    "```"
   ]
  },
  {
   "cell_type": "code",
   "execution_count": null,
   "metadata": {
    "collapsed": true
   },
   "outputs": [],
   "source": []
  }
 ],
 "metadata": {
  "kernelspec": {
   "display_name": "Python 3",
   "language": "python",
   "name": "python3"
  },
  "language_info": {
   "codemirror_mode": {
    "name": "ipython",
    "version": 3
   },
   "file_extension": ".py",
   "mimetype": "text/x-python",
   "name": "python",
   "nbconvert_exporter": "python",
   "pygments_lexer": "ipython3",
   "version": "3.4.3"
  }
 },
 "nbformat": 4,
 "nbformat_minor": 0
}
