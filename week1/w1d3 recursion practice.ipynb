{
 "cells": [
  {
   "cell_type": "markdown",
   "metadata": {},
   "source": [
    "* Fibonacci\n",
    "  * Fib(1) = 1\n",
    "  * Fib(0) = 0\n",
    "  * Fib(n) = Fib(n - 1) + Fib(n - 2)\n",
    "* Factorials\n",
    "  * Factorial(n) = n * Factorial(n - 1)\n",
    "* Permutations\n",
    "  * permutations('EAT')\n",
    "    * EAT\n",
    "    * ETA\n",
    "    * TEA\n",
    "    * TAE\n",
    "    * AET\n",
    "    * ATE\n",
    "  * permutations('FEAT')\n",
    "    * FEAT\n",
    "    * FETA\n",
    "    * FTEA\n",
    "    * FTAE\n",
    "    * FAET\n",
    "    * FATE\n",
    "    * EFAT\n",
    "    * EFTA\n",
    "    * ETFA\n",
    "    * ETAF\n",
    "    * EATF\n",
    "    * EAFT\n",
    "    * AFET\n",
    "    * AFTE\n",
    "    * ATFE\n",
    "    * ATEF\n",
    "    * AETF\n",
    "    * AEFT\n",
    "    * TEAF\n",
    "    * TEFA\n",
    "    * TAEF\n",
    "    * TAFE\n",
    "    * TFEA\n",
    "    * TFAE\n",
    "* Trees\n",
    "  * [Trinket Tree](https://trinket.io/python/3593247a2c)\n"
   ]
  },
  {
   "cell_type": "code",
   "execution_count": 2,
   "metadata": {
    "collapsed": false
   },
   "outputs": [
    {
     "name": "stdout",
     "output_type": "stream",
     "text": [
      "0\n",
      "1\n",
      "1\n",
      "2\n",
      "3\n",
      "5\n",
      "8\n",
      "13\n",
      "21\n",
      "34\n",
      "55\n",
      "89\n",
      "144\n",
      "233\n",
      "377\n",
      "610\n",
      "987\n",
      "1597\n",
      "2584\n",
      "4181\n",
      "6765\n",
      "10946\n",
      "17711\n",
      "28657\n",
      "46368\n",
      "75025\n",
      "121393\n",
      "196418\n",
      "317811\n",
      "514229\n",
      "832040\n",
      "1346269\n",
      "2178309\n",
      "3524578\n",
      "5702887\n",
      "9227465\n",
      "14930352\n",
      "24157817\n",
      "39088169\n",
      "63245986\n"
     ]
    }
   ],
   "source": [
    "def fib(n):\n",
    "    if n >= 2:\n",
    "        return fib(n - 1) + fib(n - 2)\n",
    "    if n == 1:\n",
    "        return 1\n",
    "    if n <= 0:\n",
    "        return 0\n",
    "\n",
    "for i in range(40):\n",
    "    print(fib(i))\n"
   ]
  },
  {
   "cell_type": "code",
   "execution_count": 4,
   "metadata": {
    "collapsed": false
   },
   "outputs": [
    {
     "name": "stdout",
     "output_type": "stream",
     "text": [
      "0 1\n",
      "1 1\n",
      "2 2\n",
      "3 6\n",
      "4 24\n",
      "5 120\n",
      "6 720\n",
      "7 5040\n",
      "8 40320\n",
      "9 362880\n",
      "10 3628800\n",
      "11 39916800\n",
      "12 479001600\n",
      "13 6227020800\n",
      "14 87178291200\n",
      "15 1307674368000\n",
      "16 20922789888000\n",
      "17 355687428096000\n",
      "18 6402373705728000\n",
      "19 121645100408832000\n",
      "20 2432902008176640000\n",
      "21 51090942171709440000\n",
      "22 1124000727777607680000\n",
      "23 25852016738884976640000\n",
      "24 620448401733239439360000\n",
      "25 15511210043330985984000000\n",
      "26 403291461126605635584000000\n",
      "27 10888869450418352160768000000\n",
      "28 304888344611713860501504000000\n",
      "29 8841761993739701954543616000000\n",
      "30 265252859812191058636308480000000\n",
      "31 8222838654177922817725562880000000\n",
      "32 263130836933693530167218012160000000\n",
      "33 8683317618811886495518194401280000000\n",
      "34 295232799039604140847618609643520000000\n",
      "35 10333147966386144929666651337523200000000\n",
      "36 371993326789901217467999448150835200000000\n",
      "37 13763753091226345046315979581580902400000000\n",
      "38 523022617466601111760007224100074291200000000\n",
      "39 20397882081197443358640281739902897356800000000\n"
     ]
    }
   ],
   "source": [
    "def factorial(n):\n",
    "    if n > 1:\n",
    "        return n * factorial(n - 1)\n",
    "    else:\n",
    "        return 1\n",
    "\n",
    "for i in range(40):\n",
    "    print(i, factorial(i))\n"
   ]
  },
  {
   "cell_type": "code",
   "execution_count": 1,
   "metadata": {
    "collapsed": false
   },
   "outputs": [
    {
     "name": "stdout",
     "output_type": "stream",
     "text": [
      "['eflnot', 'eflnto', 'eflont', 'eflotn', 'efltno', 'eflton', 'efnlot', 'efnlto', 'efnolt', 'efnotl', 'efntlo', 'efntol', 'efolnt', 'efoltn', 'efonlt', 'efontl', 'efotln', 'efotnl', 'eftlno', 'eftlon', 'eftnlo', 'eftnol', 'eftoln', 'eftonl', 'elfnot', 'elfnto', 'elfont', 'elfotn', 'elftno', 'elfton', 'elnfot', 'elnfto', 'elnoft', 'elnotf', 'elntfo', 'elntof', 'elofnt', 'eloftn', 'elonft', 'elontf', 'elotfn', 'elotnf', 'eltfno', 'eltfon', 'eltnfo', 'eltnof', 'eltofn', 'eltonf', 'enflot', 'enflto', 'enfolt', 'enfotl', 'enftlo', 'enftol', 'enlfot', 'enlfto', 'enloft', 'enlotf', 'enltfo', 'enltof', 'enoflt', 'enoftl', 'enolft', 'enoltf', 'enotfl', 'enotlf', 'entflo', 'entfol', 'entlfo', 'entlof', 'entofl', 'entolf', 'eoflnt', 'eofltn', 'eofnlt', 'eofntl', 'eoftln', 'eoftnl', 'eolfnt', 'eolftn', 'eolnft', 'eolntf', 'eoltfn', 'eoltnf', 'eonflt', 'eonftl', 'eonlft', 'eonltf', 'eontfl', 'eontlf', 'eotfln', 'eotfnl', 'eotlfn', 'eotlnf', 'eotnfl', 'eotnlf', 'etflno', 'etflon', 'etfnlo', 'etfnol', 'etfoln', 'etfonl', 'etlfno', 'etlfon', 'etlnfo', 'etlnof', 'etlofn', 'etlonf', 'etnflo', 'etnfol', 'etnlfo', 'etnlof', 'etnofl', 'etnolf', 'etofln', 'etofnl', 'etolfn', 'etolnf', 'etonfl', 'etonlf', 'felnot', 'felnto', 'felont', 'felotn', 'feltno', 'felton', 'fenlot', 'fenlto', 'fenolt', 'fenotl', 'fentlo', 'fentol', 'feolnt', 'feoltn', 'feonlt', 'feontl', 'feotln', 'feotnl', 'fetlno', 'fetlon', 'fetnlo', 'fetnol', 'fetoln', 'fetonl', 'flenot', 'flento', 'fleont', 'fleotn', 'fletno', 'fleton', 'flneot', 'flneto', 'flnoet', 'flnote', 'flnteo', 'flntoe', 'floent', 'floetn', 'flonet', 'flonte', 'floten', 'flotne', 'flteno', 'flteon', 'fltneo', 'fltnoe', 'fltoen', 'fltone', 'fnelot', 'fnelto', 'fneolt', 'fneotl', 'fnetlo', 'fnetol', 'fnleot', 'fnleto', 'fnloet', 'fnlote', 'fnlteo', 'fnltoe', 'fnoelt', 'fnoetl', 'fnolet', 'fnolte', 'fnotel', 'fnotle', 'fntelo', 'fnteol', 'fntleo', 'fntloe', 'fntoel', 'fntole', 'foelnt', 'foeltn', 'foenlt', 'foentl', 'foetln', 'foetnl', 'folent', 'foletn', 'folnet', 'folnte', 'folten', 'foltne', 'fonelt', 'fonetl', 'fonlet', 'fonlte', 'fontel', 'fontle', 'foteln', 'fotenl', 'fotlen', 'fotlne', 'fotnel', 'fotnle', 'ftelno', 'ftelon', 'ftenlo', 'ftenol', 'fteoln', 'fteonl', 'ftleno', 'ftleon', 'ftlneo', 'ftlnoe', 'ftloen', 'ftlone', 'ftnelo', 'ftneol', 'ftnleo', 'ftnloe', 'ftnoel', 'ftnole', 'ftoeln', 'ftoenl', 'ftolen', 'ftolne', 'ftonel', 'ftonle', 'lefnot', 'lefnto', 'lefont', 'lefotn', 'leftno', 'lefton', 'lenfot', 'lenfto', 'lenoft', 'lenotf', 'lentfo', 'lentof', 'leofnt', 'leoftn', 'leonft', 'leontf', 'leotfn', 'leotnf', 'letfno', 'letfon', 'letnfo', 'letnof', 'letofn', 'letonf', 'lfenot', 'lfento', 'lfeont', 'lfeotn', 'lfetno', 'lfeton', 'lfneot', 'lfneto', 'lfnoet', 'lfnote', 'lfnteo', 'lfntoe', 'lfoent', 'lfoetn', 'lfonet', 'lfonte', 'lfoten', 'lfotne', 'lfteno', 'lfteon', 'lftneo', 'lftnoe', 'lftoen', 'lftone', 'lnefot', 'lnefto', 'lneoft', 'lneotf', 'lnetfo', 'lnetof', 'lnfeot', 'lnfeto', 'lnfoet', 'lnfote', 'lnfteo', 'lnftoe', 'lnoeft', 'lnoetf', 'lnofet', 'lnofte', 'lnotef', 'lnotfe', 'lntefo', 'lnteof', 'lntfeo', 'lntfoe', 'lntoef', 'lntofe', 'loefnt', 'loeftn', 'loenft', 'loentf', 'loetfn', 'loetnf', 'lofent', 'lofetn', 'lofnet', 'lofnte', 'loften', 'loftne', 'loneft', 'lonetf', 'lonfet', 'lonfte', 'lontef', 'lontfe', 'lotefn', 'lotenf', 'lotfen', 'lotfne', 'lotnef', 'lotnfe', 'ltefno', 'ltefon', 'ltenfo', 'ltenof', 'lteofn', 'lteonf', 'ltfeno', 'ltfeon', 'ltfneo', 'ltfnoe', 'ltfoen', 'ltfone', 'ltnefo', 'ltneof', 'ltnfeo', 'ltnfoe', 'ltnoef', 'ltnofe', 'ltoefn', 'ltoenf', 'ltofen', 'ltofne', 'ltonef', 'ltonfe', 'neflot', 'neflto', 'nefolt', 'nefotl', 'neftlo', 'neftol', 'nelfot', 'nelfto', 'neloft', 'nelotf', 'neltfo', 'neltof', 'neoflt', 'neoftl', 'neolft', 'neoltf', 'neotfl', 'neotlf', 'netflo', 'netfol', 'netlfo', 'netlof', 'netofl', 'netolf', 'nfelot', 'nfelto', 'nfeolt', 'nfeotl', 'nfetlo', 'nfetol', 'nfleot', 'nfleto', 'nfloet', 'nflote', 'nflteo', 'nfltoe', 'nfoelt', 'nfoetl', 'nfolet', 'nfolte', 'nfotel', 'nfotle', 'nftelo', 'nfteol', 'nftleo', 'nftloe', 'nftoel', 'nftole', 'nlefot', 'nlefto', 'nleoft', 'nleotf', 'nletfo', 'nletof', 'nlfeot', 'nlfeto', 'nlfoet', 'nlfote', 'nlfteo', 'nlftoe', 'nloeft', 'nloetf', 'nlofet', 'nlofte', 'nlotef', 'nlotfe', 'nltefo', 'nlteof', 'nltfeo', 'nltfoe', 'nltoef', 'nltofe', 'noeflt', 'noeftl', 'noelft', 'noeltf', 'noetfl', 'noetlf', 'nofelt', 'nofetl', 'noflet', 'noflte', 'noftel', 'noftle', 'noleft', 'noletf', 'nolfet', 'nolfte', 'noltef', 'noltfe', 'notefl', 'notelf', 'notfel', 'notfle', 'notlef', 'notlfe', 'nteflo', 'ntefol', 'ntelfo', 'ntelof', 'nteofl', 'nteolf', 'ntfelo', 'ntfeol', 'ntfleo', 'ntfloe', 'ntfoel', 'ntfole', 'ntlefo', 'ntleof', 'ntlfeo', 'ntlfoe', 'ntloef', 'ntlofe', 'ntoefl', 'ntoelf', 'ntofel', 'ntofle', 'ntolef', 'ntolfe', 'oeflnt', 'oefltn', 'oefnlt', 'oefntl', 'oeftln', 'oeftnl', 'oelfnt', 'oelftn', 'oelnft', 'oelntf', 'oeltfn', 'oeltnf', 'oenflt', 'oenftl', 'oenlft', 'oenltf', 'oentfl', 'oentlf', 'oetfln', 'oetfnl', 'oetlfn', 'oetlnf', 'oetnfl', 'oetnlf', 'ofelnt', 'ofeltn', 'ofenlt', 'ofentl', 'ofetln', 'ofetnl', 'oflent', 'ofletn', 'oflnet', 'oflnte', 'oflten', 'ofltne', 'ofnelt', 'ofnetl', 'ofnlet', 'ofnlte', 'ofntel', 'ofntle', 'ofteln', 'oftenl', 'oftlen', 'oftlne', 'oftnel', 'oftnle', 'olefnt', 'oleftn', 'olenft', 'olentf', 'oletfn', 'oletnf', 'olfent', 'olfetn', 'olfnet', 'olfnte', 'olften', 'olftne', 'olneft', 'olnetf', 'olnfet', 'olnfte', 'olntef', 'olntfe', 'oltefn', 'oltenf', 'oltfen', 'oltfne', 'oltnef', 'oltnfe', 'oneflt', 'oneftl', 'onelft', 'oneltf', 'onetfl', 'onetlf', 'onfelt', 'onfetl', 'onflet', 'onflte', 'onftel', 'onftle', 'onleft', 'onletf', 'onlfet', 'onlfte', 'onltef', 'onltfe', 'ontefl', 'ontelf', 'ontfel', 'ontfle', 'ontlef', 'ontlfe', 'otefln', 'otefnl', 'otelfn', 'otelnf', 'otenfl', 'otenlf', 'otfeln', 'otfenl', 'otflen', 'otflne', 'otfnel', 'otfnle', 'otlefn', 'otlenf', 'otlfen', 'otlfne', 'otlnef', 'otlnfe', 'otnefl', 'otnelf', 'otnfel', 'otnfle', 'otnlef', 'otnlfe', 'teflno', 'teflon', 'tefnlo', 'tefnol', 'tefoln', 'tefonl', 'telfno', 'telfon', 'telnfo', 'telnof', 'telofn', 'telonf', 'tenflo', 'tenfol', 'tenlfo', 'tenlof', 'tenofl', 'tenolf', 'teofln', 'teofnl', 'teolfn', 'teolnf', 'teonfl', 'teonlf', 'tfelno', 'tfelon', 'tfenlo', 'tfenol', 'tfeoln', 'tfeonl', 'tfleno', 'tfleon', 'tflneo', 'tflnoe', 'tfloen', 'tflone', 'tfnelo', 'tfneol', 'tfnleo', 'tfnloe', 'tfnoel', 'tfnole', 'tfoeln', 'tfoenl', 'tfolen', 'tfolne', 'tfonel', 'tfonle', 'tlefno', 'tlefon', 'tlenfo', 'tlenof', 'tleofn', 'tleonf', 'tlfeno', 'tlfeon', 'tlfneo', 'tlfnoe', 'tlfoen', 'tlfone', 'tlnefo', 'tlneof', 'tlnfeo', 'tlnfoe', 'tlnoef', 'tlnofe', 'tloefn', 'tloenf', 'tlofen', 'tlofne', 'tlonef', 'tlonfe', 'tneflo', 'tnefol', 'tnelfo', 'tnelof', 'tneofl', 'tneolf', 'tnfelo', 'tnfeol', 'tnfleo', 'tnfloe', 'tnfoel', 'tnfole', 'tnlefo', 'tnleof', 'tnlfeo', 'tnlfoe', 'tnloef', 'tnlofe', 'tnoefl', 'tnoelf', 'tnofel', 'tnofle', 'tnolef', 'tnolfe', 'toefln', 'toefnl', 'toelfn', 'toelnf', 'toenfl', 'toenlf', 'tofeln', 'tofenl', 'toflen', 'toflne', 'tofnel', 'tofnle', 'tolefn', 'tolenf', 'tolfen', 'tolfne', 'tolnef', 'tolnfe', 'tonefl', 'tonelf', 'tonfel', 'tonfle', 'tonlef', 'tonlfe']\n"
     ]
    }
   ],
   "source": [
    "def perm(s):\n",
    "    \"\"\"\n",
    "    Returns a list of all the permutations of the sequence s.\n",
    "    \"\"\"\n",
    "    s = ''.join(sorted(s))\n",
    "    if len(s) == 1:\n",
    "        return [s]\n",
    "    elif len(s) == 2:\n",
    "        rev = s[::-1] # reverse the string\n",
    "        return [s, rev]\n",
    "    else:\n",
    "        # TODO: pull each letter out\n",
    "        \n",
    "        new_list = []\n",
    "        \n",
    "        for q in range(len(s)):\n",
    "            \n",
    "            s[q] # first letter\n",
    "            \n",
    "            remaining_letters = s[:q] + s[q+1:]\n",
    "            suffixes = perm(remaining_letters) # remaining letters, e.g., ['EAT', 'ETA', 'TEA', 'TAE', 'AET, 'ATE']\n",
    "\n",
    "            for n in range(len(suffixes)):\n",
    "                new_list.append(s[q] + suffixes[n])\n",
    "        \n",
    "        # combine them\n",
    "        # build a list of all of these\n",
    "        return new_list\n",
    "\n",
    "print(perm('teflon'))"
   ]
  },
  {
   "cell_type": "markdown",
   "metadata": {},
   "source": []
  }
 ],
 "metadata": {
  "kernelspec": {
   "display_name": "Python 3",
   "language": "python",
   "name": "python3"
  },
  "language_info": {
   "codemirror_mode": {
    "name": "ipython",
    "version": 3
   },
   "file_extension": ".py",
   "mimetype": "text/x-python",
   "name": "python",
   "nbconvert_exporter": "python",
   "pygments_lexer": "ipython3",
   "version": "3.4.3"
  }
 },
 "nbformat": 4,
 "nbformat_minor": 0
}
